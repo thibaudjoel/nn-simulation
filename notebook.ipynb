{
 "cells": [
  {
   "cell_type": "code",
   "execution_count": 1,
   "metadata": {},
   "outputs": [],
   "source": [
    "from utils import *\n",
    "import matplotlib.pyplot as plt\n",
    "from tqdm import tqdm\n",
    "from joblib import Parallel, delayed\n",
    "import multiprocessing"
   ]
  },
  {
   "cell_type": "markdown",
   "metadata": {},
   "source": [
    "Goals:\n",
    "- validate the assumption that if maximizer of expected log likelihood yields perfect classification, maximizer of expected pen log Lh has small noise condition\n",
    "- Compute loss distribution by Monte Carlo compare with quantiles\n",
    "- effect of nuisance parameter"
   ]
  },
  {
   "cell_type": "code",
   "execution_count": 2,
   "metadata": {},
   "outputs": [],
   "source": [
    "import numpy as np\n",
    "from scipy.special import softmax\n"
   ]
  },
  {
   "cell_type": "code",
   "execution_count": 3,
   "metadata": {},
   "outputs": [
    {
     "name": "stdout",
     "output_type": "stream",
     "text": [
      "[[ 1  4  7  4 10 16  9 18 27]\n",
      " [ 4 16 28 10 25 40 18 36 54]\n",
      " [ 7 28 49 16 40 64 27 54 81]]\n",
      "[[  1.   4.   7.   8.  20.  32.  27.  54.  81.]\n",
      " [  4.  16.  28.  20.  50.  80.  54. 108. 162.]\n",
      " [  7.  28.  49.  32.  80. 128.  81. 162. 243.]]\n"
     ]
    },
    {
     "data": {
      "text/plain": [
       "array([[ 1.,  4.,  7.],\n",
       "       [ 4., 16., 28.],\n",
       "       [ 7., 28., 49.]])"
      ]
     },
     "execution_count": 3,
     "metadata": {},
     "output_type": "execute_result"
    }
   ],
   "source": [
    "X = np.array([[1, 2, 3],\n",
    "              [4, 5, 6],\n",
    "              [7, 8, 9]])\n",
    "\n",
    "sig = np.array([[1, 2, 3],\n",
    "                [4, 5, 6],\n",
    "                [7, 8, 9],\n",
    "                [10, 11, 12]])\n",
    "\n",
    "inter = np.einsum('ij, jk-> ikj', X, X.T, order='K').reshape((3, 3 * 3), order='F')\n",
    "\n",
    "\n",
    "\n",
    "print(inter)\n",
    "print(np.kron(sig, np.ones((1, 3)))[0] * inter)\n",
    "(np.kron(sig, np.ones((1, 3)))[0] * inter).reshape((3, 3, 3), order='A')[:,:,0]\n"
   ]
  },
  {
   "cell_type": "markdown",
   "metadata": {},
   "source": [
    "$\\frac{\\delta}{\\delta W_{kj}} = - \\lambda \\sum_{i=1}^n(\\mathbb{X}_{ki} - \\sigma(\\sum_{j=1}^dW_{kj}X_{ji}))\\sigma'(W_kX_i))X_{ji}$"
   ]
  },
  {
   "cell_type": "markdown",
   "metadata": {},
   "source": [
    "Need to assume entries of eta not 0 or 1 else there is no MLE/ cannot converge since entries of W go towards +/- infinity"
   ]
  },
  {
   "cell_type": "code",
   "execution_count": 4,
   "metadata": {},
   "outputs": [],
   "source": [
    "class Experiment():\n",
    "    def __init__(self, n, lamb, lambda_W, lambda_X, d, K, max_it, eps_W, eps_X, gamma):\n",
    "        self.max_it = max_it\n",
    "        self.eps_W = eps_W\n",
    "        self.eps_X = eps_X\n",
    "        self.gamma = gamma\n",
    "        self.n = n\n",
    "        self.lamb = lamb\n",
    "        self.lambda_X = lambda_X\n",
    "        self.lambda_W = lambda_W\n",
    "        self.d = d\n",
    "        self.K = K\n",
    "        self.W = np.random.randn(K, d)\n",
    "        self.X_n = sample_features(self.W, self.n, self.K)\n",
    "        self.Y = sample_Y(self.W, self.X_n)\n",
    "        self.exp_Y = softmax(sigma(self.W @ self.X_n), axis=0)\n",
    "        self.W_tilde = np.zeros((K, d))\n",
    "        self.W_star = np.zeros((K, d))\n",
    "        self.X_tilde = np.zeros_like(self.Y)\n",
    "        self.X_star = np.zeros_like(self.Y)\n",
    "        self.final_bias = np.inf\n",
    "        self.struct_pens = []\n",
    "        self.pen_logLHs = []\n",
    "        self.diff_Ws = []\n",
    "        self.diff_Xs = []\n",
    "        self.losses = []\n",
    "        self.biases = []\n",
    "        self.final_loss = np.inf\n",
    "        self.iterations = 0\n",
    "    \n",
    "    def optimize_exp_log_lh(self):\n",
    "        W_star, X_star, _, _, _, _, _, _, _ = grad_asc(self.exp_Y, self.Y, self.X_n, self.lamb, self.lambda_W, self.lambda_X, self.max_it, self.eps_W, self.eps_X, self.gamma, W_star=None, W=self.W, exp=True)\n",
    "        self.W_star = W_star\n",
    "        self.X_star = X_star\n",
    "        \n",
    "    def optimize_log_lh(self):\n",
    "        W_tilde, X_tilde, struct_pens, pen_logLHs, diff_Ws, diff_Xs, i, losses, biases = grad_asc(self.Y, self.Y, self.X_n, self.lamb, self.lambda_W, self.lambda_X, self.max_it, self.eps_W, self.eps_X, self.gamma, W_star=self.W_star, W=self.W, exp=False)\n",
    "        self.W_tilde = W_tilde\n",
    "        self.X_tilde = X_tilde\n",
    "        self.struct_pens = struct_pens\n",
    "        self.pen_logLHs = pen_logLHs\n",
    "        self.diff_Ws = diff_Ws\n",
    "        self.diff_Xs = diff_Xs\n",
    "        self.iterations = i\n",
    "        self.losses = losses\n",
    "        self.biases = biases\n",
    "        self.final_loss = losses[-1]\n",
    "        self.final_bias = biases[-1]"
   ]
  },
  {
   "cell_type": "code",
   "execution_count": 5,
   "metadata": {},
   "outputs": [],
   "source": [
    "class MonteCarlo():\n",
    "    def __init__(self, trials, n, lamb, lambda_W, lambda_X, d, K, max_it, eps_W, eps_X, gamma):\n",
    "        self.trials = trials\n",
    "        self.max_it = max_it\n",
    "        self.eps_W = eps_W\n",
    "        self.eps_X = eps_X\n",
    "        self.gamma = gamma\n",
    "        self.n = n\n",
    "        self.lamb = lamb\n",
    "        self.lambda_X = lambda_X\n",
    "        self.lambda_W = lambda_W\n",
    "        self.d = d\n",
    "        self.K = K\n",
    "        self.W = np.random.randn(K, d)\n",
    "        self.X_n = sample_features(self.W, self.n, self.K)\n",
    "        self.exp_Y = softmax(sigma(self.W @ self.X_n), axis=0)\n",
    "        self.final_bias = np.inf\n",
    "        self.struct_pens = []\n",
    "        self.pen_logLHs = []\n",
    "        self.losses = []\n",
    "        self. D = metr_tens(self.W, self.X_n, self.lamb, self.lambda_W)\n",
    "        self.Sigma = var_Y(self.W, self.X_n)\n",
    "        self.Var_ups = block_diag(np.zeros((K * d, K * d)), self.Sigma)\n",
    "        self.F_inv = inv_Fisher(self.W, self.X_n, self.lamb, self.lambda_W, self.lambda_X)\n",
    "        self.eff_rad = eff_rad(self.D, self.Var_ups, self.F_inv, self.n)\n",
    "        # self.eff_dim\n",
    "        \n",
    "    def optimize_exp_log_lh(self):\n",
    "        W_star, X_star, _, _, _, _, _, _, _ = grad_asc(self.exp_Y, self.X_n, self.lamb, self.lambda_W, self.lambda_X, self.max_it, self.eps_W, self.eps_X, self.gamma, W_star=None, W=self.W)\n",
    "        self.W_star = W_star\n",
    "        self.X_star = X_star\n",
    "        \n",
    "    def optimize_log_lh(self, Y):\n",
    "        W_tilde, X_tilde, struct_pens, pen_logLHs, diff_Ws, diff_Xs, i, losses, biases = grad_asc(Y, self.X_n, self.lamb, self.lambda_W, self.lambda_X, self.max_it, self.eps_W, self.eps_X, self.gamma, W_star=self.W_star, W=self.W)\n",
    "        return losses[-1]\n",
    "        \n",
    "    def run_trial(self):\n",
    "        Y = sample_Y(self.W, self.X_n)\n",
    "        self.optimize_log_lh(Y)\n",
    "        \n",
    "    def simulate(self):\n",
    "        num_workers = min(multiprocessing.cpu_count(), self.trials)  # Get available cores\n",
    "        self.losses = Parallel(n_jobs=num_workers)(\n",
    "            delayed(self.optimize_log_lh)(sample_Y(self.W, self.X_n)) for _ in tqdm(range(self.trials))\n",
    "        )\n",
    "    \n",
    "    # def simulate(self):\n",
    "    #     for _ in tqdm(range(self.trials)):\n",
    "    #         Y = sample_Y(self.W, self.X_n)\n",
    "    #         self.optimize_log_lh(Y)\n"
   ]
  },
  {
   "cell_type": "code",
   "execution_count": 14,
   "metadata": {},
   "outputs": [
    {
     "name": "stdout",
     "output_type": "stream",
     "text": [
      "D:(1300, 1300)\n",
      "F_inv:(1300, 1300)\n",
      "Var_ups:(1300, 1300)\n"
     ]
    }
   ],
   "source": [
    "trials = 10000\n",
    "d = 30\n",
    "K = 10\n",
    "n = 100\n",
    "lamb = 1\n",
    "lambda_W = 1\n",
    "lambda_X = 1\n",
    "max_it = 10000\n",
    "eps_W = 1e-5\n",
    "eps_X = 1e-5\n",
    "gamma = 0.001\n",
    "mc = MonteCarlo(trials, n, lamb, lambda_W, lambda_X, d, K, max_it, eps_W, eps_X, gamma)"
   ]
  },
  {
   "cell_type": "code",
   "execution_count": 15,
   "metadata": {},
   "outputs": [],
   "source": [
    "mc.optimize_exp_log_lh()"
   ]
  },
  {
   "cell_type": "code",
   "execution_count": null,
   "metadata": {},
   "outputs": [
    {
     "name": "stderr",
     "output_type": "stream",
     "text": [
      "  8%|▊         | 752/10000 [12:43<2:25:41,  1.06it/s]"
     ]
    }
   ],
   "source": [
    "mc.simulate()"
   ]
  },
  {
   "cell_type": "code",
   "execution_count": null,
   "metadata": {},
   "outputs": [
    {
     "data": {
      "image/png": "[encoded data removed]",
      "text/plain": [
       "<Figure size 640x480 with 1 Axes>"
      ]
     },
     "metadata": {},
     "output_type": "display_data"
    }
   ],
   "source": [
    "plt.hist(mc.losses)\n",
    "plt.show()"
   ]
  },
  {
   "cell_type": "code",
   "execution_count": null,
   "metadata": {},
   "outputs": [],
   "source": []
  }
 ],
 "metadata": {
  "kernelspec": {
   "display_name": ".venv",
   "language": "python",
   "name": "python3"
  },
  "language_info": {
   "codemirror_mode": {
    "name": "ipython",
    "version": 3
   },
   "file_extension": ".py",
   "mimetype": "text/x-python",
   "name": "python",
   "nbconvert_exporter": "python",
   "pygments_lexer": "ipython3",
   "version": "3.12.0"
  }
 },
 "nbformat": 4,
 "nbformat_minor": 2
}
