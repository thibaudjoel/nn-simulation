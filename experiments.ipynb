{
 "cells": [
  {
   "cell_type": "markdown",
   "metadata": {},
   "source": [
    "# Imports"
   ]
  },
  {
   "cell_type": "code",
   "execution_count": null,
   "metadata": {},
   "outputs": [],
   "source": [
    "from Convergence import Convergence\n",
    "from MonteCarlo import MonteCarlo\n",
    "from DataClasses import ConvergenceData, MonteCarloData\n",
    "from utils import create_folders\n",
    "import matplotlib.pyplot as plt\n",
    "import numpy as np\n",
    "from itertools import product"
   ]
  },
  {
   "cell_type": "code",
   "execution_count": null,
   "metadata": {},
   "outputs": [],
   "source": [
    "# Create folders for images if they do not exist yet\n",
    "create_folders()\n",
    "rng = np.random.default_rng(seed=7)"
   ]
  },
  {
   "cell_type": "markdown",
   "metadata": {},
   "source": [
    "# Convergence"
   ]
  },
  {
   "cell_type": "markdown",
   "metadata": {},
   "source": [
    "Convergence for high dimensions with low penalization is very slow -> only test with increased penalty"
   ]
  },
  {
   "cell_type": "code",
   "execution_count": null,
   "metadata": {},
   "outputs": [],
   "source": [
    "n_s = [100, 500, 1500]\n",
    "s_eta_s = [0.95, 0.99]\n",
    "lamb_s = [1, 2]\n",
    "lambda_W_s = [1, 2]\n",
    "lambda_X_s = [1, 2]"
   ]
  },
  {
   "cell_type": "markdown",
   "metadata": {},
   "source": [
    "## Low Dim (d=50)"
   ]
  },
  {
   "cell_type": "code",
   "execution_count": null,
   "metadata": {},
   "outputs": [],
   "source": [
    "for n, s_eta, lamb, lambda_W, lambda_X in product(n_s, s_eta_s, lamb_s, lambda_W_s, lambda_X_s):\n",
    "    rng = np.random.default_rng(seed=42)\n",
    "    exp = Convergence(n=n, d=50, K=20, s_eta=s_eta, rng=rng, lamb=lamb, lambda_W=lambda_W, lambda_X=lambda_X)\n",
    "    exp.maximize_newton(max_it=5000, eps=1e-7)\n",
    "    print(f\"n={n} | s_eta={s_eta} | lambda={lamb} | lambda_W={lambda_W} | lambda_X={lambda_X}:\")\n",
    "    print(f\"Loss: {exp.losses[-1]}\")\n",
    "    \n",
    "    exp.save_results_as_dic(\"results/low_dim\")"
   ]
  },
  {
   "cell_type": "markdown",
   "metadata": {},
   "source": [
    "## Med Dim (d=100)"
   ]
  },
  {
   "cell_type": "code",
   "execution_count": null,
   "metadata": {},
   "outputs": [],
   "source": [
    "for n, s_eta, lamb, lambda_W, lambda_X in product(n_s, s_eta_s, lamb_s, lambda_W_s, lambda_X_s):\n",
    "    rng = np.random.default_rng(seed=42)\n",
    "    exp = Convergence(n=n, d=100, K=20, s_eta=s_eta, rng=rng, lamb=lamb, lambda_W=lambda_W, lambda_X=lambda_X)\n",
    "    exp.maximize_newton(max_it=5000, eps=1e-7)\n",
    "    print(f\"n={n} | s_eta={s_eta} | lambda={lamb} | lambda_W={lambda_W} | lambda_X={lambda_X}:\")\n",
    "    print(f\"Loss: {exp.losses[-1]}\")\n",
    "    \n",
    "    exp.save_results_as_dic(\"results/low_dim\")"
   ]
  },
  {
   "cell_type": "markdown",
   "metadata": {},
   "source": [
    "## High dim (d=200)"
   ]
  },
  {
   "cell_type": "code",
   "execution_count": null,
   "metadata": {},
   "outputs": [],
   "source": [
    "for n, s_eta, lamb, lambda_W, lambda_X in product(n_s, s_eta_s, lamb_s, lambda_W_s, lambda_X_s):\n",
    "    rng = np.random.default_rng(seed=42)\n",
    "    exp = Convergence(n=n, d=200, K=20, s_eta=s_eta, rng=rng, lamb=lamb, lambda_W=lambda_W, lambda_X=lambda_X)\n",
    "    exp.maximize_newton(max_it=5000, eps=1e-7)\n",
    "    print(f\"n={n} | s_eta={s_eta} | lambda={lamb} | lambda_W={lambda_W} | lambda_X={lambda_X}:\")\n",
    "    print(f\"Loss: {exp.losses[-1]}\")\n",
    "    \n",
    "    exp.save_results_as_dic(\"results/low_dim\")"
   ]
  },
  {
   "cell_type": "markdown",
   "metadata": {},
   "source": [
    "# Monte Carlo"
   ]
  },
  {
   "cell_type": "code",
   "execution_count": null,
   "metadata": {},
   "outputs": [],
   "source": [
    "n_s = [100]\n",
    "s_eta_s = [0.95, 0.99]\n",
    "lamb_s = [0.5, 1, 2]\n",
    "lambda_W_s = [0.5, 1, 2]\n",
    "lambda_X_s = [0.5, 1, 2]\n",
    "trials = 100\n",
    "K = 20"
   ]
  },
  {
   "cell_type": "markdown",
   "metadata": {},
   "source": [
    "## d=50"
   ]
  },
  {
   "cell_type": "code",
   "execution_count": null,
   "metadata": {},
   "outputs": [],
   "source": [
    "for n, s_eta, lamb, lambda_W, lambda_X in product(n_s, s_eta_s, lamb_s, lambda_W_s, lambda_X_s):\n",
    "    # reinitialize random number generator s.t. each setting simulation has same data\n",
    "    rng = np.random.default_rng(seed=42)\n",
    "    mc = MonteCarlo(trials=trials, lamb=lamb, lambda_W=lambda_W, lambda_X=lambda_X, n=n, d=50, K=K, s_eta=s_eta, rng=rng, max_it=5000, eps=1e-7)\n",
    "    mc.simulate()\n",
    "    mc.save_results_as_dic(\"low_dim\")\n"
   ]
  },
  {
   "cell_type": "markdown",
   "metadata": {},
   "source": [
    "## d=100"
   ]
  },
  {
   "cell_type": "code",
   "execution_count": null,
   "metadata": {},
   "outputs": [],
   "source": [
    "for n, s_eta, lamb, lambda_W, lambda_X in product(n_s, s_eta_s, lamb_s, lambda_W_s, lambda_X_s):\n",
    "    # reinitialize random number generator s.t. each setting simulation has same data\n",
    "    rng = np.random.default_rng(seed=42)\n",
    "    mc = MonteCarlo(trials=trials, lamb=lamb, lambda_W=lambda_W, lambda_X=lambda_X, n=n, d=100, K=K, s_eta=s_eta, rng=rng, max_it=5000, eps=1e-7)\n",
    "    mc.simulate()\n",
    "    mc.save_results_as_dic(\"med_dim\")"
   ]
  },
  {
   "cell_type": "markdown",
   "metadata": {},
   "source": [
    "## d=200"
   ]
  },
  {
   "cell_type": "code",
   "execution_count": null,
   "metadata": {},
   "outputs": [],
   "source": [
    "for n, s_eta, lamb, lambda_W, lambda_X in product(n_s, s_eta_s, lamb_s, lambda_W_s, lambda_X_s):\n",
    "    # reinitialize random number generator s.t. each setting simulation has same data\n",
    "    rng = np.random.default_rng(seed=42)\n",
    "    mc = MonteCarlo(trials=trials, lamb=lamb, lambda_W=lambda_W, lambda_X=lambda_X, n=n, d=200, K=K, s_eta=s_eta, rng=rng, max_it=5000, eps=1e-7)\n",
    "    mc.simulate()\n",
    "    mc.save_results_as_dic(\"high_dim\")"
   ]
  }
 ],
 "metadata": {
  "kernelspec": {
   "display_name": ".venv",
   "language": "python",
   "name": "python3"
  },
  "language_info": {
   "codemirror_mode": {
    "name": "ipython",
    "version": 3
   },
   "file_extension": ".py",
   "mimetype": "text/x-python",
   "name": "python",
   "nbconvert_exporter": "python",
   "pygments_lexer": "ipython3",
   "version": "3.12.0"
  }
 },
 "nbformat": 4,
 "nbformat_minor": 2
}
