{
 "cells": [
  {
   "cell_type": "markdown",
   "metadata": {},
   "source": [
    "# Imports"
   ]
  },
  {
   "cell_type": "code",
   "execution_count": 1,
   "metadata": {},
   "outputs": [],
   "source": [
    "from Convergence import Convergence\n",
    "from MonteCarlo import MonteCarlo\n",
    "from utils import create_folders\n",
    "import numpy as np\n",
    "from itertools import product\n",
    "from multiprocessing import cpu_count\n",
    "from joblib import Parallel, delayed"
   ]
  },
  {
   "cell_type": "code",
   "execution_count": 2,
   "metadata": {},
   "outputs": [
    {
     "name": "stdout",
     "output_type": "stream",
     "text": [
      "Folders created successfully.\n"
     ]
    }
   ],
   "source": [
    "# Create folders for images if they do not exist yet\n",
    "create_folders()"
   ]
  },
  {
   "cell_type": "markdown",
   "metadata": {},
   "source": [
    "# Convergence"
   ]
  },
  {
   "cell_type": "code",
   "execution_count": null,
   "metadata": {},
   "outputs": [],
   "source": [
    "def run_experiment(args, d):\n",
    "    n, s_eta, lamb, lambda_W, lambda_X, W_0_factor = args\n",
    "    rng = np.random.default_rng(seed=42)\n",
    "    exp = Convergence(n=n, d=d, K=20, s_eta=s_eta, rng=rng, lamb=lamb, lambda_W=lambda_W, lambda_X=lambda_X, W_0_factor=W_0_factor)\n",
    "    exp.maximize_newton(max_it=5000, eps=1e-7)\n",
    "    print(exp.losses[-1])\n",
    "    exp.save_results_as_dic()"
   ]
  },
  {
   "cell_type": "code",
   "execution_count": null,
   "metadata": {},
   "outputs": [],
   "source": [
    "n_s = [100]\n",
    "s_eta_s = [0.99]\n",
    "lamb_s = [0.5, 1, 2]\n",
    "lambda_W_s = [0.2, 0.5, 1]\n",
    "lambda_X_s = [0.2, 0.5, 1]\n",
    "W_0_factor_s = [1]\n",
    "param_grid = list(product(n_s, s_eta_s, lamb_s, lambda_W_s, lambda_X_s, W_0_factor_s))"
   ]
  },
  {
   "cell_type": "code",
   "execution_count": null,
   "metadata": {},
   "outputs": [],
   "source": [
    "num_workers = min(cpu_count(), len(param_grid))\n",
    "Parallel(n_jobs=num_workers)(delayed(run_experiment)(args, d=50) for args in param_grid)"
   ]
  },
  {
   "cell_type": "markdown",
   "metadata": {},
   "source": [
    "# Monte Carlo"
   ]
  },
  {
   "cell_type": "markdown",
   "metadata": {},
   "source": [
    "## Experiments for grid of parameter combinations"
   ]
  },
  {
   "cell_type": "code",
   "execution_count": null,
   "metadata": {},
   "outputs": [],
   "source": [
    "n_s = [100]\n",
    "s_eta_s = [0.99]\n",
    "lamb_s = [0.5, 1, 2]\n",
    "lambda_W_s = [0.2, 0.5, 1]\n",
    "lambda_X_s = [0.2, 0.5, 1]\n",
    "param_grid = list(product(n_s, s_eta_s, lamb_s, lambda_W_s, lambda_X_s))\n",
    "trials = 100"
   ]
  },
  {
   "cell_type": "code",
   "execution_count": null,
   "metadata": {},
   "outputs": [],
   "source": [
    "for n, s_eta, lamb, lambda_W, lambda_X in param_grid:\n",
    "    # reinitialize random number generator s.t. each setting simulation has same data\n",
    "    rng = np.random.default_rng(seed=42)\n",
    "    mc = MonteCarlo(trials=trials, lamb=lamb, lambda_W=lambda_W, lambda_X=lambda_X, n=n, d=50, K=20, s_eta=s_eta, rng=rng, max_it=5000, eps=1e-7)\n",
    "    mc.simulate()\n",
    "    mc.save_results_as_dic()\n"
   ]
  },
  {
   "cell_type": "markdown",
   "metadata": {},
   "source": [
    "## Additional simulations for $\\lambda$ with $\\lambda_W=\\lambda_\\mathbb{X}=0.2$"
   ]
  },
  {
   "cell_type": "code",
   "execution_count": null,
   "metadata": {},
   "outputs": [],
   "source": [
    "n_s = [100]\n",
    "s_eta_s = [0.99]\n",
    "lamb_s = [0.1, 0.2, 0.3, 0.4, 0.5, 0.6, 0.7, 0.8, 0.9, 1]\n",
    "lambda_W_s = [0.2]\n",
    "lambda_X_s = [0.2]\n",
    "param_grid = list(product(n_s, s_eta_s, lamb_s, lambda_W_s, lambda_X_s))\n",
    "trials = 100"
   ]
  },
  {
   "cell_type": "code",
   "execution_count": null,
   "metadata": {},
   "outputs": [],
   "source": [
    "for n, s_eta, lamb, lambda_W, lambda_X in param_grid:    \n",
    "    # reinitialize random number generator s.t. each setting simulation has same data\n",
    "    rng = np.random.default_rng(seed=42)\n",
    "    mc = MonteCarlo(trials=trials, lamb=lamb, lambda_W=lambda_W, lambda_X=lambda_X, n=n, d=50, K=20, s_eta=s_eta, rng=rng, max_it=5000, eps=1e-7)\n",
    "    mc.simulate()\n",
    "    mc.save_results_as_dic()"
   ]
  }
 ],
 "metadata": {
  "kernelspec": {
   "display_name": ".venv",
   "language": "python",
   "name": "python3"
  },
  "language_info": {
   "codemirror_mode": {
    "name": "ipython",
    "version": 3
   },
   "file_extension": ".py",
   "mimetype": "text/x-python",
   "name": "python",
   "nbconvert_exporter": "python",
   "pygments_lexer": "ipython3",
   "version": "3.12.0"
  }
 },
 "nbformat": 4,
 "nbformat_minor": 2
}
